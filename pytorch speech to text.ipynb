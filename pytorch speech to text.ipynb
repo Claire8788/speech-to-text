{
 "cells": [
  {
   "cell_type": "code",
   "execution_count": null,
   "metadata": {},
   "outputs": [
    {
     "name": "stdout",
     "output_type": "stream",
     "text": [
      " * Serving Flask app \"__main__\" (lazy loading)\n",
      " * Environment: production\n",
      "   WARNING: This is a development server. Do not use it in a production deployment.\n",
      "   Use a production WSGI server instead.\n",
      " * Debug mode: off\n"
     ]
    },
    {
     "name": "stderr",
     "output_type": "stream",
     "text": [
      " * Running on http://127.0.0.1:5000/ (Press CTRL+C to quit)\n"
     ]
    }
   ],
   "source": [
    "from flask import Flask, redirect, url_for, request, render_template\n",
    "\n",
    "import torch\n",
    "import zipfile\n",
    "import torchaudio\n",
    "from glob import glob\n",
    "app = Flask(__name__)\n",
    "@app.route('/')\n",
    "def index():\n",
    "    return render_template(\"web.html\")\n",
    "\n",
    "@app.route('/login',methods = ['POST', 'GET'])\n",
    "def login():\n",
    "    if request.method == 'POST':\n",
    "        print(1)\n",
    "        file = request.files.get('files')\n",
    "        file.save('/home/claire/1.wav')\n",
    "     #你的处理文件的代码段\n",
    "\n",
    "\n",
    "        device = torch.device('cpu')  # gpu also works, but our models are fast enough for CPU\n",
    "\n",
    "        model, decoder, utils = torch.hub.load(repo_or_dir='snakers4/silero-models',\n",
    "                                           model='silero_stt',\n",
    "                                           language='en', # also available 'de', 'es'\n",
    "                                           device=device)\n",
    "        (read_batch, split_into_batches,\n",
    "        read_audio, prepare_model_input) = utils  # see function signature for details\n",
    "\n",
    "# download a single file, any format compatible with TorchAudio (soundfile backend)\n",
    "#torch.hub.download_url_to_file('https://opus-codec.org/static/examples/samples/speech_orig.wav',\n",
    "#                               dst ='speech_orig.wav', progress=True)\n",
    "        test_files = glob('/home/claire/1.wav')\n",
    "        batches = split_into_batches(test_files, batch_size=10)\n",
    "        input = prepare_model_input(read_batch(batches[0]),\n",
    "                            device=device)\n",
    "        output = model(input)\n",
    "    #for example in output:\n",
    "        for example in output:\n",
    "            x=decoder(example.cpu())\n",
    "\n",
    "    #file_handle=open('1.txt',mode='w+')\n",
    "#    response = make_response(\n",
    " #       send_from_directory('/www/python', '1.jpg', as_attachment=True))#将1.jpg（即你的处理结果）以文件流返回\n",
    "    #return response\n",
    "\n",
    "        return x\n",
    "if __name__ == '__main__':\n",
    "    app.run()"
   ]
  },
  {
   "cell_type": "code",
   "execution_count": null,
   "metadata": {},
   "outputs": [],
   "source": []
  },
  {
   "cell_type": "code",
   "execution_count": null,
   "metadata": {},
   "outputs": [],
   "source": []
  },
  {
   "cell_type": "code",
   "execution_count": null,
   "metadata": {},
   "outputs": [],
   "source": []
  },
  {
   "cell_type": "code",
   "execution_count": null,
   "metadata": {},
   "outputs": [],
   "source": []
  }
 ],
 "metadata": {
  "kernelspec": {
   "display_name": "Python 3",
   "language": "python",
   "name": "python3"
  },
  "language_info": {
   "codemirror_mode": {
    "name": "ipython",
    "version": 3
   },
   "file_extension": ".py",
   "mimetype": "text/x-python",
   "name": "python",
   "nbconvert_exporter": "python",
   "pygments_lexer": "ipython3",
   "version": "3.7.6"
  }
 },
 "nbformat": 4,
 "nbformat_minor": 4
}
